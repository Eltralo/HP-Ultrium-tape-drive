{
 "cells": [
  {
   "cell_type": "code",
   "execution_count": 5,
   "metadata": {},
   "outputs": [
    {
     "name": "stdout",
     "output_type": "stream",
     "text": [
      "12412412\n"
     ]
    }
   ],
   "source": [
    "import datetime\n",
    "\n",
    "b = datetime.datetime.today()\n",
    "sum2 = (b.hour*1001+ b.day*101+b.month+b.year)*123\n",
    "if sum2 > 99999999:\n",
    "  password = 44122333\n",
    "else:\n",
    "  sum2 = str(sum2).replace('0','1')\n",
    "  sum2 =str(sum2).replace('9','1')\n",
    "  def replace_digits(number):\n",
    "    result = []\n",
    "    for digit in sum2:\n",
    "        digit = int(digit)\n",
    "        if digit > 4:\n",
    "           result.append(str(digit - 4))\n",
    "        else:\n",
    "           result.append(str(digit))\n",
    "    return int(\"\".join(result))\n",
    "  sum2 = replace_digits(sum2)\n",
    "  if len(str(sum2))<8:\n",
    "    a=8 - int(len(str((sum2))))\n",
    "    for i in range (a):\n",
    "        password = '1'+ str(sum2)\n",
    "\n",
    "print(password)"
   ]
  }
 ],
 "metadata": {
  "kernelspec": {
   "display_name": "Python 3",
   "language": "python",
   "name": "python3"
  },
  "language_info": {
   "codemirror_mode": {
    "name": "ipython",
    "version": 3
   },
   "file_extension": ".py",
   "mimetype": "text/x-python",
   "name": "python",
   "nbconvert_exporter": "python",
   "pygments_lexer": "ipython3",
   "version": "3.9.10"
  }
 },
 "nbformat": 4,
 "nbformat_minor": 2
}
